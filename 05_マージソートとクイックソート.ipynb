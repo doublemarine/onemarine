{
  "nbformat": 4,
  "nbformat_minor": 0,
  "metadata": {
    "colab": {
      "name": "05_マージソートとクイックソート.ipynb",
      "provenance": [],
      "collapsed_sections": [],
      "include_colab_link": true
    },
    "kernelspec": {
      "name": "python3",
      "display_name": "Python 3"
    }
  },
  "cells": [
    {
      "cell_type": "markdown",
      "metadata": {
        "id": "view-in-github",
        "colab_type": "text"
      },
      "source": [
        "<a href=\"https://colab.research.google.com/github/doublemarine/onemarine/blob/main/05_%E3%83%9E%E3%83%BC%E3%82%B8%E3%82%BD%E3%83%BC%E3%83%88%E3%81%A8%E3%82%AF%E3%82%A4%E3%83%83%E3%82%AF%E3%82%BD%E3%83%BC%E3%83%88.ipynb\" target=\"_parent\"><img src=\"https://colab.research.google.com/assets/colab-badge.svg\" alt=\"Open In Colab\"/></a>"
      ]
    },
    {
      "cell_type": "markdown",
      "metadata": {
        "id": "78Kfq2-E8Gqs"
      },
      "source": [
        "# マージソート"
      ]
    },
    {
      "cell_type": "code",
      "metadata": {
        "id": "rVax-yxw8IXq"
      },
      "source": [
        "#ソート関数の宣言\n",
        "def sort(A):\n",
        "    if len(A) < 2:\n",
        "        return A\n",
        "    c = len(A) // 2\n",
        "    return merge(sort(A[:c]), sort(A[c:]))\n",
        "\n",
        "\n",
        "#merge関数の宣言\n",
        "def merge(X, Y):\n",
        "    if len(X) < 1:\n",
        "        return Y\n",
        "    if len(Y) < 1:\n",
        "        return X\n",
        "    if X[0] > Y[0]:\n",
        "        return [Y[0]] + merge(X, Y[1:])\n",
        "    else:\n",
        "        return [X[0]] + merge(X[1:], Y)\n",
        "\n",
        "\n",
        "#ソートの実行\n",
        "A = [8,4,3,9,6,7,1,2,5]\n",
        "print(\"ソート前: \", A)\n",
        "result = sort(A)\n",
        "print(\"ソート後: \", result)"
      ],
      "execution_count": null,
      "outputs": []
    },
    {
      "cell_type": "markdown",
      "metadata": {
        "id": "0BrVnArD-myf"
      },
      "source": [
        "#クイックソート"
      ]
    },
    {
      "cell_type": "code",
      "metadata": {
        "id": "o0CifihQ-pHA"
      },
      "source": [
        "#ソート関数の宣言\n",
        "def sort(A):\n",
        "    if len(A) < 2:\n",
        "        return A\n",
        "    p = A[0]\n",
        "    X, Y = divide(p, A[1:])\n",
        "    return sort(X) + [p] + sort(Y)\n",
        "\n",
        "\n",
        "#divide関数の宣言\n",
        "def divide(p, A):\n",
        "    if len(A) < 1:\n",
        "        return ([],[])\n",
        "    X, Y = divide(p, A[1:])\n",
        "    a = A[0]\n",
        "    if a < p:\n",
        "        return ([a]+X, Y)\n",
        "    else:\n",
        "        return (X, [a]+Y)\n",
        "\n",
        "\n",
        "#ソートの実行\n",
        "A = [8,4,3,9,6,7,1,2,5]\n",
        "print(\"ソート前: \", A)\n",
        "result = sort(A)\n",
        "print(\"ソート後: \", result)"
      ],
      "execution_count": null,
      "outputs": []
    }
  ]
}