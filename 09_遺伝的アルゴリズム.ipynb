{
  "nbformat": 4,
  "nbformat_minor": 0,
  "metadata": {
    "colab": {
      "name": "09_遺伝的アルゴリズム.ipynb",
      "provenance": [],
      "collapsed_sections": []
    },
    "kernelspec": {
      "name": "python3",
      "display_name": "Python 3"
    }
  },
  "cells": [
    {
      "cell_type": "markdown",
      "metadata": {
        "id": "0BrVnArD-myf"
      },
      "source": [
        "# 遺伝的アルゴリズム（Genetic Algorithm）"
      ]
    },
    {
      "cell_type": "markdown",
      "metadata": {
        "id": "RFaDKGsaW204"
      },
      "source": [
        "*   講義で扱った駄菓子の組み合わせ最適化問題を解くプログラム\n",
        "*   進化戦略は，交差と突然変異のみ．選択は行わない\n",
        "\n"
      ]
    },
    {
      "cell_type": "code",
      "metadata": {
        "id": "ficVrptCWpZ7",
        "colab": {
          "base_uri": "https://localhost:8080/"
        },
        "outputId": "8b1a7b0b-e25e-4ad3-f7e4-a92cfc705ad3"
      },
      "source": [
        "import random\n",
        "\n",
        "# 遺伝子個体の生成と評価を行うクラスを定義\n",
        "class Gene:\n",
        "    alloc = []\n",
        "    price = 0\n",
        "    value = 0\n",
        "    def __init__(self):\n",
        "        # コンストラクタで遺伝子個体生成（0〜8は駄菓子のID，遺伝子座の長さは20）\n",
        "        self.alloc = ''.join([random.choice('012345678') for i in range(20)])\n",
        "    \n",
        "    #遺伝子個体を評価する関数（価格と満足度の合計）\n",
        "    def evalGene(self, data):\n",
        "        self.price = 0\n",
        "        for i in range(0,20):\n",
        "            self.price += data[int(self.alloc[i])][1]\n",
        "\n",
        "        self.value = 0\n",
        "        for i in range(0,20):\n",
        "            self.value +=  data[int(self.alloc[i])][2]\n",
        "            if self.price > 300:\n",
        "                self.value = 0\n",
        "\n",
        "\n",
        "# 進化計算のための関数\n",
        "def evolution(gene_set, epoch, prob, data):\n",
        "    # 評価値順に並べ替え\n",
        "    for i in range(1, len(gene_set)):\n",
        "        insert(gene_set, i)\n",
        "    \n",
        "    for e in range(0, epoch):    \n",
        "        # 1点交差（評価値の低い2個体を評価値の高い上位２個体の子で置き換える）\n",
        "        gene_set[9].alloc = gene_set[0].alloc[0:10] + gene_set[1].alloc[0:10]\n",
        "        gene_set[8].alloc = gene_set[1].alloc[10:20] + gene_set[0].alloc[10:20]\n",
        "        \n",
        "        #突然変異（確率probで遺伝子座1箇所をランダムに変更）\n",
        "        for i in range(0,len(gene_set)):\n",
        "            rnd = random.uniform(0, 1)\n",
        "            if rnd < prob:\n",
        "                p = random.randint(0, len(gene_set)-1)\n",
        "                alloc_list = list(gene_set[i].alloc)\n",
        "                alloc_list[p] = random.choice('012345678')\n",
        "                gene_set[i].alloc = \"\".join(alloc_list)\n",
        "            \n",
        "        #遺伝子個体を評価\n",
        "        for i in range(0,len(gene_set)):\n",
        "            gene_set[i].evalGene(data)\n",
        "        \n",
        "        # 評価値順に並べ替え\n",
        "        for i in range(1, len(gene_set)):\n",
        "            insert(gene_set, i)\n",
        "\n",
        "\n",
        "# 挿入ソート関数\n",
        "def insert(gene_set, i):\n",
        "    temp = gene_set[i]\n",
        "    for j in range(i-1, -1, -1):\n",
        "        if temp.value > gene_set[j].value:\n",
        "            gene_set[j+1] = gene_set[j]\n",
        "        else:\n",
        "            gene_set[j+1] = temp\n",
        "            break\n",
        "    else:\n",
        "        gene_set[0] = temp\n",
        "\n",
        "\n",
        "# 駄菓子の組み合わせを表示する関数\n",
        "def show(data, gene_set):\n",
        "    print('--------------------------------------')\n",
        "    for i in range(0, len(gene_set)):\n",
        "        cnt = [0 for k in range(0,9)]\n",
        "        for j in range(0, 20):\n",
        "            cnt[int(gene_set[i].alloc[j])] += 1\n",
        "        print('【遺伝子'+ str(i)+'】' , end=\"\")\n",
        "        print('値段：' + str(gene_set[i].price) + '円　', end=\"\")\n",
        "        print('満足度：' + str(gene_set[i].value) + '　', end=\"\")\n",
        "        for k in range(0,9):\n",
        "            print(str(data[k][0])+'x'+str(cnt[k])+', ', end=\"\")\n",
        "        print()\n",
        "\n",
        "\n",
        "# 駄菓子のデータ（名前，価格，満足度）を用意\n",
        "data = [    ['うまい棒', 10, 5],\n",
        "                ['ビックカツ', 30, 3],\n",
        "                ['蒲焼さん太郎', 10, 2], \n",
        "                ['焼き肉さん', 10, 4],\n",
        "                ['キャベツ太郎', 20, 3],\n",
        "                ['カットよっちゃん', 30, 1],\n",
        "                ['ごえんがあるよ', 5, 2],\n",
        "                ['タラタラしてんじゃね〜よ', 20, 3],\n",
        "                ['フーセンガム', 10, 2]\n",
        "        ]\n",
        "\n",
        "\n",
        "# ====== 実行 ======\n",
        "# 遺伝子個体を10個生成\n",
        "gene_set = []\n",
        "for i in range(0,10):\n",
        "    gene = Gene()\n",
        "    gene.evalGene(data)\n",
        "    gene_set.append(gene)\n",
        "\n",
        "# 初期状態出力\n",
        "#show(data, gene_set)\n",
        "\n",
        "# 進化計算\n",
        "evolution(gene_set, 3000, 0.01, data)\n",
        "\n",
        "# 結果出力\n",
        "show(data, gene_set)"
      ],
      "execution_count": 1,
      "outputs": [
        {
          "output_type": "stream",
          "name": "stdout",
          "text": [
            "--------------------------------------\n",
            "【遺伝子0】値段：200円　満足度：100　うまい棒x20, ビックカツx0, 蒲焼さん太郎x0, 焼き肉さんx0, キャベツ太郎x0, カットよっちゃんx0, ごえんがあるよx0, タラタラしてんじゃね〜よx0, フーセンガムx0, \n",
            "【遺伝子1】値段：200円　満足度：100　うまい棒x20, ビックカツx0, 蒲焼さん太郎x0, 焼き肉さんx0, キャベツ太郎x0, カットよっちゃんx0, ごえんがあるよx0, タラタラしてんじゃね〜よx0, フーセンガムx0, \n",
            "【遺伝子2】値段：200円　満足度：100　うまい棒x20, ビックカツx0, 蒲焼さん太郎x0, 焼き肉さんx0, キャベツ太郎x0, カットよっちゃんx0, ごえんがあるよx0, タラタラしてんじゃね〜よx0, フーセンガムx0, \n",
            "【遺伝子3】値段：200円　満足度：100　うまい棒x20, ビックカツx0, 蒲焼さん太郎x0, 焼き肉さんx0, キャベツ太郎x0, カットよっちゃんx0, ごえんがあるよx0, タラタラしてんじゃね〜よx0, フーセンガムx0, \n",
            "【遺伝子4】値段：200円　満足度：100　うまい棒x20, ビックカツx0, 蒲焼さん太郎x0, 焼き肉さんx0, キャベツ太郎x0, カットよっちゃんx0, ごえんがあるよx0, タラタラしてんじゃね〜よx0, フーセンガムx0, \n",
            "【遺伝子5】値段：200円　満足度：100　うまい棒x20, ビックカツx0, 蒲焼さん太郎x0, 焼き肉さんx0, キャベツ太郎x0, カットよっちゃんx0, ごえんがあるよx0, タラタラしてんじゃね〜よx0, フーセンガムx0, \n",
            "【遺伝子6】値段：200円　満足度：100　うまい棒x20, ビックカツx0, 蒲焼さん太郎x0, 焼き肉さんx0, キャベツ太郎x0, カットよっちゃんx0, ごえんがあるよx0, タラタラしてんじゃね〜よx0, フーセンガムx0, \n",
            "【遺伝子7】値段：200円　満足度：100　うまい棒x20, ビックカツx0, 蒲焼さん太郎x0, 焼き肉さんx0, キャベツ太郎x0, カットよっちゃんx0, ごえんがあるよx0, タラタラしてんじゃね〜よx0, フーセンガムx0, \n",
            "【遺伝子8】値段：200円　満足度：100　うまい棒x20, ビックカツx0, 蒲焼さん太郎x0, 焼き肉さんx0, キャベツ太郎x0, カットよっちゃんx0, ごえんがあるよx0, タラタラしてんじゃね〜よx0, フーセンガムx0, \n",
            "【遺伝子9】値段：200円　満足度：100　うまい棒x20, ビックカツx0, 蒲焼さん太郎x0, 焼き肉さんx0, キャベツ太郎x0, カットよっちゃんx0, ごえんがあるよx0, タラタラしてんじゃね〜よx0, フーセンガムx0, \n"
          ]
        }
      ]
    }
  ]
}