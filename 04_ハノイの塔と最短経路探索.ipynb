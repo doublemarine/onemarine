{
  "nbformat": 4,
  "nbformat_minor": 0,
  "metadata": {
    "colab": {
      "name": "04_ハノイの塔と最短経路探索.ipynb",
      "provenance": [],
      "collapsed_sections": [],
      "include_colab_link": true
    },
    "kernelspec": {
      "name": "python3",
      "display_name": "Python 3"
    }
  },
  "cells": [
    {
      "cell_type": "markdown",
      "metadata": {
        "id": "view-in-github",
        "colab_type": "text"
      },
      "source": [
        "<a href=\"https://colab.research.google.com/github/doublemarine/onemarine/blob/main/04_%E3%83%8F%E3%83%8E%E3%82%A4%E3%81%AE%E5%A1%94%E3%81%A8%E6%9C%80%E7%9F%AD%E7%B5%8C%E8%B7%AF%E6%8E%A2%E7%B4%A2.ipynb\" target=\"_parent\"><img src=\"https://colab.research.google.com/assets/colab-badge.svg\" alt=\"Open In Colab\"/></a>"
      ]
    },
    {
      "cell_type": "markdown",
      "metadata": {
        "id": "78Kfq2-E8Gqs"
      },
      "source": [
        "# Hanoiの塔（円盤の動かし方）"
      ]
    },
    {
      "cell_type": "code",
      "metadata": {
        "id": "rVax-yxw8IXq"
      },
      "source": [
        "#Hanoiの塔の解法手順\n",
        "def move( k, start, temp, end ):\n",
        "    if k >= 2:\n",
        "        move( k-1, start, end, temp)\n",
        "    print(start, '軸の円盤を', end, '軸へ移動')\n",
        "    if k >= 2:\n",
        "        move( k-1, temp, start, end)\n",
        "\n",
        "\n",
        "#実行\n",
        "move(4, 'A', 'B', 'C')"
      ],
      "execution_count": null,
      "outputs": []
    },
    {
      "cell_type": "markdown",
      "metadata": {
        "id": "0BrVnArD-myf"
      },
      "source": [
        "#最短経路探索（経路の数え上げ）"
      ]
    },
    {
      "cell_type": "code",
      "metadata": {
        "id": "o0CifihQ-pHA"
      },
      "source": [
        "#左上から右下に最短経路で移動する場合の経路数を数える\n",
        "# 第一引数：行の数（横方向に伸びる道，Y座標）\n",
        "# 第二引数：列の数（縦方向に伸びる道，X座標）\n",
        "# 第三引数：通行不可の箇所の二次元座標（tuple型）\n",
        "def counting(row, col, X):\n",
        "    A = [[-1 for j in range(col+1)] for i in range(row+1)]\n",
        "    for i in range(row+1):\n",
        "        A[i][0] = 0\n",
        "    for j in range(col+1):\n",
        "        A[0][j] = 0\n",
        "    for (i, j) in X:\n",
        "        A[i][j] = 0\n",
        "    A[1][1] = 1\n",
        "\n",
        "    for i in range(1, row+1):\n",
        "        for j in range(1, col+1):\n",
        "            if A[i][j] == -1:\n",
        "                A[i][j] = A[i-1][j] + A[i][j-1]\n",
        "    return A[row][col]\n",
        "\n",
        "#実行\n",
        "counting(5, 6, [(1,4),(4,4)])\n"
      ],
      "execution_count": null,
      "outputs": []
    }
  ]
}