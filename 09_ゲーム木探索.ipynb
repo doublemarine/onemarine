{
  "nbformat": 4,
  "nbformat_minor": 0,
  "metadata": {
    "colab": {
      "name": "09_ゲーム木探索.ipynb",
      "provenance": [],
      "collapsed_sections": [],
      "toc_visible": true
    },
    "kernelspec": {
      "name": "python3",
      "display_name": "Python 3"
    }
  },
  "cells": [
    {
      "cell_type": "markdown",
      "metadata": {
        "id": "0BrVnArD-myf"
      },
      "source": [
        "# ゲーム木探索"
      ]
    },
    {
      "cell_type": "markdown",
      "metadata": {
        "id": "RFaDKGsaW204"
      },
      "source": [
        "\n",
        "\n",
        "*   三目並べを例に代表的なゲーム木探索のアルゴリズムを示す\n",
        "*   自分が先手（O），相手が後手（X）とする\n",
        "*   盤面の状態を二重リストで定義して関数の引数に与えることで評価値を計算する\n",
        "\n"
      ]
    },
    {
      "cell_type": "markdown",
      "metadata": {
        "id": "kqOAim3JWh9_"
      },
      "source": [
        "## ミニマックス法"
      ]
    },
    {
      "cell_type": "code",
      "metadata": {
        "id": "ficVrptCWpZ7",
        "outputId": "8faac493-7336-4961-958b-3a115fec4b0a",
        "colab": {
          "base_uri": "https://localhost:8080/"
        }
      },
      "source": [
        "# 盤面 n の状態で自分の番のときの評価値を計算する\n",
        "def my_turn(n):\n",
        "        if leaf(n):\n",
        "            return evaluation(n)\n",
        "        max = 0\n",
        "        for next in edge(n):\n",
        "            temp = your_turn(next)\n",
        "            if temp > max:\n",
        "                max = temp\n",
        "        return max\n",
        "\n",
        "# 盤面 n の状態で相手の番のときの評価値を計算する\n",
        "def your_turn(n):\n",
        "    if leaf(n):\n",
        "        return evaluation(n)\n",
        "    min = 100\n",
        "    for next in edge(n):\n",
        "        temp = my_turn(next)\n",
        "        if temp < min:\n",
        "            min = temp\n",
        "    return min\n",
        "\n",
        "# 盤面 n を受け取り，ゲームが終了しているかどうか判定する関数\n",
        "def leaf(n):\n",
        "    return ((triple(n, 'O') and not triple(n, 'X'))\n",
        "                or (not triple(n, 'O') and triple(n, 'X'))\n",
        "                or ('_' not in n[0] + n[1] + n[2]))\n",
        "\n",
        "# 印 p （OかX）が縦横斜めに3つ揃っているか調べる関数\n",
        "def triple(n, p):\n",
        "    for (a,b,c) in [(0,0,0), (1,1,1), (2,2,2), (0,1,2)]:\n",
        "        if (n[a][0] == n[b][1] == n[c][2] == p or n[2][a] == n[1][b] == n[0][c] == p):\n",
        "            return True\n",
        "    return False\n",
        "\n",
        "# 点数の計算（Oが揃ったら100，Xが揃ったら0，引き分けで50）\n",
        "def evaluation(n):\n",
        "    if triple(n, 'O'):\n",
        "        return 100\n",
        "    if triple(n, 'X'):\n",
        "        return 0\n",
        "    return 50\n",
        "\n",
        "# 盤面 n に対して可能な手を全通り列挙して次の盤面のリストを返す関数\n",
        "def edge(n):\n",
        "    L = n[0] + n[1] + n[2]\n",
        "    Ns = []\n",
        "    player = 'O'\n",
        "    if L.count('O') > L.count('X'):\n",
        "        player = 'X'\n",
        "    for i in range(len(L)):\n",
        "        if L[i] == '_':\n",
        "            L2 = L[:]\n",
        "            L2[i] = player\n",
        "            Ns = Ns + [L2]\n",
        "    return [[[a,b,c], [d,e,f], [g,h,i]]\n",
        "            for (a,b,c,d,e,f,g,h,i) in Ns]\n",
        "\n",
        "\n",
        "# ゲーム木探索の実行\n",
        "# 盤面の定義（自分（'O'），相手（'X'），空欄（'_'））\n",
        "n = [\n",
        "     ['X', '_', '_'],\n",
        "     ['O', 'O', '_'],\n",
        "     ['X', '_', '_']\n",
        "     ]\n",
        "\n",
        "# 盤面 n の局面で自分の番（O）のときの評価値\n",
        "score = my_turn(n)\n",
        "print(score)\n"
      ],
      "execution_count": 1,
      "outputs": [
        {
          "output_type": "stream",
          "name": "stdout",
          "text": [
            "100\n"
          ]
        }
      ]
    }
  ]
}