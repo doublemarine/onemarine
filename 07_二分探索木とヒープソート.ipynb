{
  "nbformat": 4,
  "nbformat_minor": 0,
  "metadata": {
    "colab": {
      "name": "07_二分探索木とヒープソート.ipynb",
      "provenance": [],
      "collapsed_sections": [],
      "include_colab_link": true
    },
    "kernelspec": {
      "name": "python3",
      "display_name": "Python 3"
    }
  },
  "cells": [
    {
      "cell_type": "markdown",
      "metadata": {
        "id": "view-in-github",
        "colab_type": "text"
      },
      "source": [
        "<a href=\"https://colab.research.google.com/github/doublemarine/onemarine/blob/main/07_%E4%BA%8C%E5%88%86%E6%8E%A2%E7%B4%A2%E6%9C%A8%E3%81%A8%E3%83%92%E3%83%BC%E3%83%97%E3%82%BD%E3%83%BC%E3%83%88.ipynb\" target=\"_parent\"><img src=\"https://colab.research.google.com/assets/colab-badge.svg\" alt=\"Open In Colab\"/></a>"
      ]
    },
    {
      "cell_type": "markdown",
      "metadata": {
        "id": "78Kfq2-E8Gqs"
      },
      "source": [
        "# 二分探索木（Binary Search Tree）"
      ]
    },
    {
      "cell_type": "markdown",
      "metadata": {
        "id": "6rC9ZQcO_ME-"
      },
      "source": [
        "*   insert関数：ノードを追加する関数\n",
        "*   delete関数：ノードを削除する関数\n",
        "*   remove_min関数：delete関数内で使う最小値削除用の関数\n",
        "*   search関数：二分探索木の探索をする関数\n",
        "\n",
        "\n",
        "\n"
      ]
    },
    {
      "cell_type": "code",
      "metadata": {
        "id": "rVax-yxw8IXq",
        "colab": {
          "base_uri": "https://localhost:8080/"
        },
        "outputId": "eb585d56-d925-46b0-c700-a6acf7f0a11a"
      },
      "source": [
        "#=========== 関数の宣言 =========== \n",
        "#ノード追加\n",
        "def insert(T, n):\n",
        "    if len(T) == 0:\n",
        "        return ((), n, ())\n",
        "    L, node, R = T\n",
        "    if n == node:\n",
        "        return T\n",
        "    if n < node:\n",
        "        return (insert(L, n), node, R)\n",
        "    return (L, node, insert(R, n))\n",
        "\n",
        "#ノード削除\n",
        "def remove(T, n):\n",
        "    if len(T) == 0:\n",
        "        return ()\n",
        "    L, node, R = T\n",
        "    if n == node:\n",
        "        if len(L) == 0:\n",
        "            return R\n",
        "        if len(R) == 0:\n",
        "            return L\n",
        "        m, X = remove_min(R)\n",
        "        return(L, m, X)\n",
        "    if n < node:\n",
        "        return (remove(L, n), node, R)\n",
        "    return (L, node, remove(R, n))\n",
        "\n",
        "def remove_min(T):\n",
        "    L, node, R = T\n",
        "    if len(L) == 0:\n",
        "        return (node, R)\n",
        "    m, X = remove_min(L)\n",
        "    return (m, (X, node, R))\n",
        "\n",
        "#ノード探索\n",
        "def search(T, n):\n",
        "    if len(T) == 0:\n",
        "        return 'Not found'\n",
        "    L, node, R = T\n",
        "    if n == node:\n",
        "        return 'Found the number ' + str(node)\n",
        "    if n < node:\n",
        "        return search(L, n)\n",
        "    return search(R, n)\n",
        "\n",
        "\n",
        "#=========== 処理の実行 =========== \n",
        "#(1)二分探索木へのノードの追加\n",
        "X = ()\n",
        "X = insert(X, 6)\n",
        "X = insert(X, 10)\n",
        "X = insert(X, 3)\n",
        "X = insert(X, 12)\n",
        "X = insert(X, 4)\n",
        "X = insert(X, 8)\n",
        "X = insert(X, 2)\n",
        "print(X)\n",
        "\n",
        "#(2)二分探索木からのノードの削除\n",
        "X = remove(X, 2)\n",
        "print(X)\n",
        "X = remove(X, 10)\n",
        "print(X)\n",
        "\n",
        "#(3)二分探索木の探索\n",
        "result = search(X, 8)\n",
        "print(result)\n",
        "result = search(X, 9)\n",
        "print(result)"
      ],
      "execution_count": null,
      "outputs": [
        {
          "output_type": "stream",
          "name": "stdout",
          "text": [
            "((((), 2, ()), 3, ((), 4, ())), 6, (((), 8, ()), 10, ((), 12, ())))\n",
            "(((), 3, ((), 4, ())), 6, (((), 8, ()), 10, ((), 12, ())))\n",
            "(((), 3, ((), 4, ())), 6, (((), 8, ()), 12, ()))\n",
            "Found the number 8\n",
            "Not found\n"
          ]
        }
      ]
    },
    {
      "cell_type": "markdown",
      "metadata": {
        "id": "0BrVnArD-myf"
      },
      "source": [
        "#ヒープソート（完全二分木のみ対応）"
      ]
    },
    {
      "cell_type": "markdown",
      "metadata": {
        "id": "E5kdQKEXNY4k"
      },
      "source": [
        "* 完全二分木の構築を前提としているので，リストの長さが完全二分木を作れない中途半端な長さ（例えば6とか）だとうまくヒープを構築できないので整列がうまく行かない場合がある \n",
        "* sort関数：並べ替える関数（途中のprint文で並べ替えの過程がわかるようになっている）\n",
        "*  left関数，right関数：左の子または右の子のいちをリスト上で求める関数\n",
        "*  exchange_node関数：節点の交換を行う関数\n",
        "*  construct_heap関数：第一引数で渡されたリストを元にヒープ構造を作る（保つ）関数．タプルの三つ組など特殊な構造は用いない．単純なリストの並びでヒープを実現する．リストの奇数番目は左ノードの値，偶数番目は右ノードの値とする．\n",
        "\n",
        "\n",
        "\n"
      ]
    },
    {
      "cell_type": "code",
      "metadata": {
        "id": "MnlDJWksLN8Q"
      },
      "source": [
        "#=========== 関数の宣言 =========== \n",
        "def sort(A):\n",
        "    construct_heap(A, 0)\n",
        "    print(A)\n",
        "    for last in range(len(A)-1, 0, -1):\n",
        "        A[0], A[last] = A[last], A[0]\n",
        "        print(A)\n",
        "        exchange_nodes(A, 0, last-1)\n",
        "        print(A)\n",
        "\n",
        "def left(n):\n",
        "    return 2* n + 1\n",
        "\n",
        "def right(n):\n",
        "    return 2* n + 2\n",
        "\n",
        "def exchange_nodes(A, n, last):\n",
        "    if last < left(n):\n",
        "        return\n",
        "    child = left(n)\n",
        "    if right(n) <= last:\n",
        "        if A[left(n)] < A[right(n)]:\n",
        "            child = right(n)\n",
        "        if A[n] < A[child]:\n",
        "            A[n], A[child] = A[child], A[n]\n",
        "            exchange_nodes(A, child, last)\n",
        "\n",
        "def construct_heap(A, n):\n",
        "    last = len(A) - 1\n",
        "    if last < left(n):\n",
        "        return\n",
        "    construct_heap(A, left(n))\n",
        "    if right(n) <= last:\n",
        "        construct_heap(A, right(n))\n",
        "    exchange_nodes(A, n, last)\n",
        "\n",
        "#=========== 並べ替えの実行 =========== \n",
        "# （A=[4,1,2,3,5,7]とかだとうまく行かない?）\n",
        "A = [4,1,2,3,5]\n",
        "sort(A)\n"
      ],
      "execution_count": null,
      "outputs": []
    }
  ]
}