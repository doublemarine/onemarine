{
  "nbformat": 4,
  "nbformat_minor": 0,
  "metadata": {
    "colab": {
      "name": "06_深さ優先探索と幅優先探索.ipynb",
      "provenance": [],
      "collapsed_sections": [],
      "include_colab_link": true
    },
    "kernelspec": {
      "name": "python3",
      "display_name": "Python 3"
    }
  },
  "cells": [
    {
      "cell_type": "markdown",
      "metadata": {
        "id": "view-in-github",
        "colab_type": "text"
      },
      "source": [
        "<a href=\"https://colab.research.google.com/github/doublemarine/onemarine/blob/main/06_%E6%B7%B1%E3%81%95%E5%84%AA%E5%85%88%E6%8E%A2%E7%B4%A2%E3%81%A8%E5%B9%85%E5%84%AA%E5%85%88%E6%8E%A2%E7%B4%A2.ipynb\" target=\"_parent\"><img src=\"https://colab.research.google.com/assets/colab-badge.svg\" alt=\"Open In Colab\"/></a>"
      ]
    },
    {
      "cell_type": "markdown",
      "metadata": {
        "id": "78Kfq2-E8Gqs"
      },
      "source": [
        "# 深さ優先探索（二分木探索）"
      ]
    },
    {
      "cell_type": "markdown",
      "metadata": {
        "id": "6rC9ZQcO_ME-"
      },
      "source": [
        "*   ノードの下に子ノードが２つある場合は，左ノードを優先（左ノードを後からスタックに追加）する\n",
        "*   全探索順を表示する\n",
        "*   二分探索木は，3つ組のタプルを用いた入れ子形式で与える\n",
        "\n",
        "\n",
        "\n"
      ]
    },
    {
      "cell_type": "code",
      "metadata": {
        "id": "rVax-yxw8IXq"
      },
      "source": [
        "# モジュールのインポート\n",
        "from collections import deque\n",
        "\n",
        "#深さ優先探索\n",
        "def depth_first_search(T):\n",
        "    D = deque()\n",
        "    if len(T) > 0:\n",
        "        D.append(T)\n",
        "    while len(D) > 0:\n",
        "        L, a, R = D.pop()\n",
        "        print(a, end=' --> ')\n",
        "        if len(R) > 0:\n",
        "            D.append(R)\n",
        "        if len(L) > 0:\n",
        "            D.append(L)\n",
        "\n",
        "\n",
        "#探索の実行\n",
        "X = ((((), 'D', ((),'H',()) ), 'B', ((), 'E', ()) ), 'A', ( ((), 'F', ()), 'C', ( ( (), 'I', ()), 'G', ()) ))\n",
        "depth_first_search(X)"
      ],
      "execution_count": null,
      "outputs": []
    },
    {
      "cell_type": "markdown",
      "metadata": {
        "id": "0BrVnArD-myf"
      },
      "source": [
        "#幅優先探索（二分木探索）"
      ]
    },
    {
      "cell_type": "markdown",
      "metadata": {
        "id": "E5kdQKEXNY4k"
      },
      "source": [
        "*   ノードの下に子ノードが２つある場合は，左ノードを優先（左ノードを先にキューに追加）する\n",
        "*   全探索順を表示する\n",
        "*   二分探索木は，3つ組のタプルを用いた入れ子形式で与える\n",
        "\n",
        "\n",
        "\n"
      ]
    },
    {
      "cell_type": "code",
      "metadata": {
        "id": "o0CifihQ-pHA"
      },
      "source": [
        "# モジュールのインポート\n",
        "from collections import deque\n",
        "\n",
        "#幅優先探索\n",
        "def breadth_first_search(T):\n",
        "    D = deque()\n",
        "    if len(T) > 0:\n",
        "        D.append(T)\n",
        "    while len(D) > 0:\n",
        "        L, a, R = D.popleft()\n",
        "        print(a, end=' --> ')\n",
        "        if len(L) > 0:\n",
        "            D.append(L)\n",
        "        if len(R) > 0:\n",
        "            D.append(R)\n",
        "\n",
        "\n",
        "#探索の実行\n",
        "X = ((((), 'D', ((),'H',()) ), 'B', ((), 'E', ()) ), 'A', ( ((), 'F', ()), 'C', ( ( (), 'I', ()), 'G', ()) ))\n",
        "breadth_first_search(X)"
      ],
      "execution_count": null,
      "outputs": []
    }
  ]
}