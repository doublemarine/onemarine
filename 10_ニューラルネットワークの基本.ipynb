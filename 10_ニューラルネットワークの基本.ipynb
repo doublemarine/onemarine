{
  "nbformat": 4,
  "nbformat_minor": 0,
  "metadata": {
    "colab": {
      "name": "10_ニューラルネットワークの基本.ipynb",
      "provenance": [],
      "collapsed_sections": [],
      "include_colab_link": true
    },
    "kernelspec": {
      "name": "python3",
      "display_name": "Python 3"
    }
  },
  "cells": [
    {
      "cell_type": "markdown",
      "metadata": {
        "id": "view-in-github",
        "colab_type": "text"
      },
      "source": [
        "<a href=\"https://colab.research.google.com/github/doublemarine/onemarine/blob/main/10_%E3%83%8B%E3%83%A5%E3%83%BC%E3%83%A9%E3%83%AB%E3%83%8D%E3%83%83%E3%83%88%E3%83%AF%E3%83%BC%E3%82%AF%E3%81%AE%E5%9F%BA%E6%9C%AC.ipynb\" target=\"_parent\"><img src=\"https://colab.research.google.com/assets/colab-badge.svg\" alt=\"Open In Colab\"/></a>"
      ]
    },
    {
      "cell_type": "markdown",
      "metadata": {
        "id": "aCLwKZ2ZX8hM"
      },
      "source": [
        "# 単純パーセプトロン"
      ]
    },
    {
      "cell_type": "markdown",
      "metadata": {
        "id": "7OUfBQLaQBSW"
      },
      "source": [
        "AND演算やOR演算が正しくできるように，右のパラメータを調整してみよう"
      ]
    },
    {
      "cell_type": "code",
      "metadata": {
        "id": "VvMiTi8qYAxM",
        "outputId": "13127cf0-e486-4050-9949-d4d2190d632b",
        "colab": {
          "base_uri": "https://localhost:8080/"
        }
      },
      "source": [
        "import numpy as np\n",
        "\n",
        "#@markdown ##Parameter Settings\n",
        "w1 = 0 #@param {type:\"slider\", min:-2.0, max:2.0, step:0.1}\n",
        "w2 = -0.4 #@param {type:\"slider\", min:-2.0, max:2.0, step:0.1}\n",
        "b = 0.1 #@param {type:\"slider\", min:-2.0, max:2.0, step:0.1}\n",
        "\n",
        "def f(u):\n",
        "    return(np.where(u > 0, 1, 0))\n",
        "\n",
        "X = np.array([[0,0], [0,1], [1,0], [1,1]]).T\n",
        "W = np.array([[w1], [w2]]).T\n",
        "B = np.array(b).T\n",
        "Y = f(np.dot(W,X)+B)\n",
        "\n",
        "\n",
        "#演算結果の出力\n",
        "print('(0, 0) --> ' + str(Y[0,0]))\n",
        "print('(0, 1) --> ' + str(Y[0,1]))\n",
        "print('(1, 0) --> ' + str(Y[0,2]))\n",
        "print('(1, 1) --> ' + str(Y[0,3]))\n"
      ],
      "execution_count": 29,
      "outputs": [
        {
          "output_type": "stream",
          "name": "stdout",
          "text": [
            "(0, 0) --> 1\n",
            "(0, 1) --> 0\n",
            "(1, 0) --> 1\n",
            "(1, 1) --> 0\n"
          ]
        }
      ]
    },
    {
      "cell_type": "markdown",
      "metadata": {
        "id": "h5iNf72od1Ef"
      },
      "source": [
        "# 活性化関数（Activation Functions）"
      ]
    },
    {
      "cell_type": "markdown",
      "metadata": {
        "id": "iMBzI2gnQNNK"
      },
      "source": [
        "活性化関数としてよく使われる関数です．実行するとグラフが表示されます．右のパラメータを変化させると，グラフの形状が変化しますので，パラメータによってグラフがどのように変わるか確かめてください．"
      ]
    },
    {
      "cell_type": "markdown",
      "metadata": {
        "id": "EpVQVe7BYGIh"
      },
      "source": [
        "### シグモイド関数（Sigmoid Function）"
      ]
    },
    {
      "cell_type": "code",
      "metadata": {
        "id": "tw-NEd8r3kO3",
        "outputId": "608f40d6-0b33-4e43-b81e-632b1b5d5679",
        "colab": {
          "base_uri": "https://localhost:8080/",
          "height": 306
        }
      },
      "source": [
        "import numpy as np\n",
        "import matplotlib.pyplot as plt\n",
        "\n",
        "#@markdown ##Parameter Settings\n",
        "#@markdown ###1. Gain: a     \n",
        "a = 6 #@param {type:\"slider\", min:1.0, max:10.0, step:1}\n",
        "\n",
        "x = np.array([ i for i in np.arange(-10,10,0.1)])\n",
        "y = [None for i in range(0,200)]\n",
        "for i in range(0,200):\n",
        "    y[i] =  1 / (1 + np.exp(-a*x[i]))\n",
        "\n",
        "plt.figure(figsize=(4, 3), dpi=100)\n",
        "\n",
        "plt.plot(x, y,  color = \"red\", label='sigmoid')\n",
        "plt.xlabel(\"x\")\n",
        "plt.ylabel(\"y\")\n",
        "plt.legend()\n",
        "plt.show()"
      ],
      "execution_count": 13,
      "outputs": [
        {
          "output_type": "display_data",
          "data": {
            "image/png": "[encoded data removed]",
            "text/plain": [
              "<Figure size 400x300 with 1 Axes>"
            ]
          },
          "metadata": {
            "needs_background": "light"
          }
        }
      ]
    },
    {
      "cell_type": "markdown",
      "metadata": {
        "id": "IN3k1-GrYNNe"
      },
      "source": [
        "## 双曲線正接関数（Tangent Hyperbolic Function）：tanh(x)"
      ]
    },
    {
      "cell_type": "code",
      "metadata": {
        "id": "_69IjUxOYY3D",
        "outputId": "b3d18830-273e-4557-e32c-ce127c8ecb03",
        "colab": {
          "base_uri": "https://localhost:8080/",
          "height": 306
        }
      },
      "source": [
        "import numpy as np\n",
        "import matplotlib.pyplot as plt\n",
        "\n",
        "#@markdown ##Parameter Settings\n",
        "#@markdown なし\n",
        "\n",
        "x = np.array([ i for i in np.arange(-10,10,0.1)])\n",
        "y = [None for i in range(0,200)]\n",
        "for i in range(0,200):\n",
        "    y[i] =  (np.exp(x[i]) - np.exp(-1*x[i])) / (np.exp(x[i]) + np.exp(-1*x[i]))\n",
        "\n",
        "plt.figure(figsize=(4, 3), dpi=100)\n",
        "\n",
        "plt.plot(x, y,  color = \"red\", label='tanh')\n",
        "plt.xlabel(\"x\")\n",
        "plt.ylabel(\"y\")\n",
        "plt.legend()\n",
        "plt.show()"
      ],
      "execution_count": 8,
      "outputs": [
        {
          "output_type": "display_data",
          "data": {
            "image/png": "[encoded data removed]",
            "text/plain": [
              "<Figure size 400x300 with 1 Axes>"
            ]
          },
          "metadata": {
            "needs_background": "light"
          }
        }
      ]
    },
    {
      "cell_type": "markdown",
      "metadata": {
        "id": "AUYMkupiZwtD"
      },
      "source": [
        "## ガウス関数（Gaussian function）"
      ]
    },
    {
      "cell_type": "code",
      "metadata": {
        "id": "qUOSsxGeaeE0",
        "outputId": "50320369-2f79-48bf-fc05-23b7cb4c5b17",
        "colab": {
          "base_uri": "https://localhost:8080/",
          "height": 306
        }
      },
      "source": [
        "import numpy as np\n",
        "import matplotlib.pyplot as plt\n",
        "\n",
        "#@markdown ##Parameter Settings\n",
        "#@markdown ###1. 偏差：σ    \n",
        "sigma = 0.9 #@param {type:\"slider\", min:0.1, max:5.0, step:0.1}\n",
        "#@markdown ###2. 平均：μ  \n",
        "mu = 1 #@param {type:\"slider\", min:-3.0, max:3.0, step:0.5}\n",
        "\n",
        "x = np.array([ i for i in np.arange(-5,5,0.1)])\n",
        "y = [None for i in range(0,100)]\n",
        "for i in range(0,100):\n",
        "    y[i] =  1/(np.sqrt(2*np.pi)*sigma)*np.exp(-(x[i]-mu)**2 / (2*sigma*sigma))\n",
        "\n",
        "plt.figure(figsize=(4, 3), dpi=100)\n",
        "\n",
        "plt.plot(x, y,  color = \"red\", label='gaussian')\n",
        "plt.xlabel(\"x\")\n",
        "plt.ylabel(\"y\")\n",
        "plt.legend()\n",
        "plt.show()"
      ],
      "execution_count": 21,
      "outputs": [
        {
          "output_type": "display_data",
          "data": {
            "image/png": "[encoded data removed]",
            "text/plain": [
              "<Figure size 400x300 with 1 Axes>"
            ]
          },
          "metadata": {
            "needs_background": "light"
          }
        }
      ]
    },
    {
      "cell_type": "markdown",
      "metadata": {
        "id": "mKiJEMa1Zo2K"
      },
      "source": [
        "## ReLU（Rectified Linear Unit）"
      ]
    },
    {
      "cell_type": "code",
      "metadata": {
        "id": "v_TLmGRiZvZN",
        "outputId": "7de87ab3-f4f8-4bf5-8f3a-c95304bd4d5a",
        "colab": {
          "base_uri": "https://localhost:8080/",
          "height": 306
        }
      },
      "source": [
        "import numpy as np\n",
        "import matplotlib.pyplot as plt\n",
        "\n",
        "#@markdown ##Parameter Settings\n",
        "#@markdown なし\n",
        "\n",
        "x = np.array([ i for i in np.arange(-10,10,0.1)])\n",
        "y = [None for i in range(0,200)]\n",
        "for i in range(0,200):\n",
        "    y[i] =  max(0,x[i])\n",
        "\n",
        "plt.figure(figsize=(4, 3), dpi=100)\n",
        "\n",
        "plt.plot(x, y,  color = \"red\", label='ReLU')\n",
        "plt.xlabel(\"x\")\n",
        "plt.ylabel(\"y\")\n",
        "plt.legend()\n",
        "plt.show()"
      ],
      "execution_count": 10,
      "outputs": [
        {
          "output_type": "display_data",
          "data": {
            "image/png": "[encoded data removed]",
            "text/plain": [
              "<Figure size 400x300 with 1 Axes>"
            ]
          },
          "metadata": {
            "needs_background": "light"
          }
        }
      ]
    },
    {
      "cell_type": "markdown",
      "metadata": {
        "id": "DX8wfb2gWl03"
      },
      "source": [
        "# 多層パーセプトロン（階層型ニューラルネットワーク）"
      ]
    },
    {
      "cell_type": "markdown",
      "metadata": {
        "id": "WgeaIqR6QYjm"
      },
      "source": [
        "XOR演算が正しくできるように，右のパラメータを調整してみよう（ちょっと難しいです）"
      ]
    },
    {
      "cell_type": "code",
      "metadata": {
        "id": "mcYXq-5KaMk6",
        "outputId": "42a459d6-1c12-4bd7-c40a-862e544023ce",
        "colab": {
          "base_uri": "https://localhost:8080/"
        }
      },
      "source": [
        "import numpy as np\n",
        "\n",
        "#@markdown ##Parameter Settings\n",
        "w13 = 0 #@param {type:\"slider\", min:-20.0, max:20.0, step:0.1}\n",
        "w23 = 0 #@param {type:\"slider\", min:-20.0, max:20.0, step:0.1}\n",
        "b03 = 0 #@param {type:\"slider\", min:-20.0, max:20.0, step:0.1}\n",
        "w14 = 0 #@param {type:\"slider\", min:-20.0, max:20.0, step:0.1}\n",
        "w24 = 0 #@param {type:\"slider\", min:-20.0, max:20.0, step:0.1}\n",
        "b04 = 0 #@param {type:\"slider\", min:-20.0, max:20.0, step:0.1}\n",
        "w35 = 0 #@param {type:\"slider\", min:-20.0, max:20.0, step:0.1}\n",
        "w45 = 0 #@param {type:\"slider\", min:-20.0, max:20.0, step:0.1}\n",
        "b05 = 0 #@param {type:\"slider\", min:-20.0, max:20.0, step:0.1}\n",
        "\n",
        "def f(u):\n",
        "    return 1.0 / (1.0 + np.exp(-u))\n",
        "\n",
        "#def f(u):\n",
        "#    return(np.where(u > 0, 1, 0))\n",
        "\n",
        "X = np.array([[0,0], [0,1], [1,0], [1,1]]).T\n",
        "Wih = np.array([w13, w23, w14, w24]).reshape(2,2)\n",
        "Bh = np.array([b03, b04]).reshape(2,1)\n",
        "Who = np.array([w35, w45]).reshape(1,2)\n",
        "Bo = np.array([b05]).T\n",
        "O = f(np.dot(Who, f(np.dot(Wih, X) + Bh)) + Bo)\n",
        "\n",
        "#演算結果の出力\n",
        "print('(0, 0) --> ' + str(np.rint(O[0,0])) + '(' + str(O[0,0]) + ')' )\n",
        "print('(0, 1) --> ' + str(np.rint(O[0,1])) + '(' + str(O[0,1]) + ')' )\n",
        "print('(1, 0) --> ' + str(np.rint(O[0,2])) + '(' + str(O[0,2]) + ')' )\n",
        "print('(1, 1) --> ' + str(np.rint(O[0,3])) + '(' + str(O[0,3]) + ')' )\n"
      ],
      "execution_count": 1,
      "outputs": [
        {
          "output_type": "stream",
          "name": "stdout",
          "text": [
            "(0, 0) --> 0.0(0.5)\n",
            "(0, 1) --> 0.0(0.5)\n",
            "(1, 0) --> 0.0(0.5)\n",
            "(1, 1) --> 0.0(0.5)\n"
          ]
        }
      ]
    }
  ]
}